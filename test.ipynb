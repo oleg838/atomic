{
 "cells": [
  {
   "cell_type": "code",
   "execution_count": 9,
   "metadata": {},
   "outputs": [],
   "source": [
    "import cv2\n",
    "import numpy as np\n",
    "\n",
    "image = cv2.imread('imgnotmalization.jpg')\n",
    "image = cv2.resize(cl1, (640, 640))\n",
    "cv2.imshow('CLAHE', image)\n",
    "cv2.waitKey(0)\n",
    "cv2.destroyAllWindows()"
   ]
  },
  {
   "cell_type": "code",
   "execution_count": 15,
   "metadata": {},
   "outputs": [],
   "source": [
    "import cv2\n",
    "import numpy as np\n",
    "\n",
    "image = cv2.imread('imgnotmalization.jpg')\n",
    "denoised = cv2.medianBlur(image, 5)\n",
    "gray_image = cv2.cvtColor(denoised, cv2.COLOR_BGR2GRAY)"
   ]
  },
  {
   "cell_type": "code",
   "execution_count": 26,
   "metadata": {},
   "outputs": [
    {
     "name": "stdout",
     "output_type": "stream",
     "text": [
      "\n",
      "0: 384x640 (no detections), 149.7ms\n",
      "Speed: 2.0ms preprocess, 149.7ms inference, 0.0ms postprocess per image at shape (1, 3, 384, 640)\n",
      "\n",
      "0: 384x640 1  , 142.6ms\n",
      "Speed: 2.0ms preprocess, 142.6ms inference, 2.0ms postprocess per image at shape (1, 3, 384, 640)\n"
     ]
    }
   ],
   "source": [
    "import telebot\n",
    "import io\n",
    "import tempfile\n",
    "import torch\n",
    "from ultralytics import YOLO\n",
    "import cv2\n",
    "import numpy as np\n",
    "\n",
    "# Вставьте сюда ваш токен\n",
    "TOKEN = '7178794179:AAFrz0ImoWU2FGDDTKRx3lIS2dd9ZQY89aU'\n",
    "bot = telebot.TeleBot(TOKEN)\n",
    "\n",
    "# Обработчик для команды /start\n",
    "@bot.message_handler(commands=['start'])\n",
    "def send_welcome(message):\n",
    "    bot.reply_to(message, \"Добрый день! Я бот который находит дефекты на сварных швах. Отправь мне изображение, а я отмечу на нем дефекты!\")\n",
    "\n",
    "\n",
    "@bot.message_handler(content_types=['photo'])\n",
    "def handle_image(message):\n",
    "    # Получаем файл изображения\n",
    "    file_info = bot.get_file(message.photo[-1].file_id)\n",
    "    downloaded_file = bot.download_file(file_info.file_path)\n",
    "\n",
    "    # Чтение изображения из памяти\n",
    "    image_np = np.frombuffer(downloaded_file, np.uint8)\n",
    "    image = cv2.imdecode(image_np, cv2.IMREAD_COLOR)\n",
    "    model = YOLO('runs/detect/train2/weights/best.pt')\n",
    "    test_images = [image]\n",
    "    results = model.predict(source=test_images, device='cuda' if torch.cuda.is_available() else 'cpu', imgsz=640)\n",
    "\n",
    "    # Просмотр результатов\n",
    "    for i, result in enumerate(results):\n",
    "        # Получение изображения с предсказанными аннотациями\n",
    "        annotated_frame = result.plot()  # Метод plot() возвращает изображение с аннотациями\n",
    "        output_path = f\"annotated_image_{i+1}.jpg\"\n",
    "        cv2.imwrite(output_path, annotated_frame)\n",
    "        defects = result.boxes\n",
    "        if not defects:\n",
    "            bot.send_message(message.chat.id, \"Дефекты не обнаружены\")\n",
    "        else:\n",
    "            with open(output_path, 'rb') as img_file:\n",
    "                bot.send_photo(message.chat.id, img_file)\n",
    "\n",
    "\n",
    "\n",
    "# Запуск бота\n",
    "bot.polling()\n"
   ]
  }
 ],
 "metadata": {
  "kernelspec": {
   "display_name": "Python 3",
   "language": "python",
   "name": "python3"
  },
  "language_info": {
   "codemirror_mode": {
    "name": "ipython",
    "version": 3
   },
   "file_extension": ".py",
   "mimetype": "text/x-python",
   "name": "python",
   "nbconvert_exporter": "python",
   "pygments_lexer": "ipython3",
   "version": "3.12.0"
  }
 },
 "nbformat": 4,
 "nbformat_minor": 2
}
